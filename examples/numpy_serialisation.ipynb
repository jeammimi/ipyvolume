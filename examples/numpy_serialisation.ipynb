{
 "cells": [
  {
   "cell_type": "code",
   "execution_count": 105,
   "metadata": {
    "collapsed": true
   },
   "outputs": [],
   "source": [
    "import ipywidgets as widgets\n",
    "from traitlets import Unicode, validate\n",
    "from IPython.display import display\n",
    "from traittypes import Array\n",
    "import io\n",
    "import numpy as np\n",
    "\n",
    "\n",
    "def array_to_json(ar, obj=None):\n",
    "    iobyte = io.BytesIO()\n",
    "    np.save(iobyte,ar)\n",
    "    return iobyte.getvalue()\n",
    "\n",
    "def from_json_to_array(value, obj=None):\n",
    "\treturn np.array(value) if value else None\n",
    "\n",
    "\n",
    "array_serialization = dict(to_json=array_to_json, from_json=from_json_to_array)\n",
    "\n",
    "\n",
    "class HelloWidget(widgets.DOMWidget):\n",
    "    _view_name = Unicode('HelloView').tag(sync=True)\n",
    "    _view_module = Unicode('hello').tag(sync=True)\n",
    "    \n",
    "    _model_name = Unicode('HelloModel').tag(sync=True)\n",
    "    _model_module = Unicode('hello').tag(sync=True)\n",
    "    x = Array().tag(sync=True,**array_serialization)"
   ]
  },
  {
   "cell_type": "code",
   "execution_count": 187,
   "metadata": {
    "collapsed": false
   },
   "outputs": [
    {
     "data": {
      "application/javascript": [
       "require.undef('hello');\n",
       "function asciiDecode(buf) {\n",
       "        return String.fromCharCode.apply(null, new Uint8Array(buf));\n",
       "}\n",
       "\n",
       "function readUint16LE(buffer) {\n",
       "        var view = new DataView(buffer);\n",
       "        var val = view.getUint8(0);\n",
       "        val |= view.getUint8(1) << 8;\n",
       "        return val;\n",
       "}\n",
       "\n",
       "function fromArrayBuffer(buf,manager) {\n",
       "      // Check the magic number\n",
       "      //var buf = new ArrayBuffer(buf)\n",
       "      //console.log(buf)\n",
       "        \n",
       "      console.log(\"l\",buf.slice(1,6) )\n",
       "\n",
       "      var magic = asciiDecode(buf.slice(0,6));\n",
       "      console.log(\"La\")\n",
       "      //return \"test\"\n",
       "      console.log(\"l\",magic.slice(1,6) )\n",
       "      if (magic.slice(1,6) != 'NUMPY') {\n",
       "          throw new Error('unknown file type');\n",
       "      }\n",
       "\n",
       "      var version = new Uint8Array(buf.slice(6,8)),\n",
       "          headerLength = readUint16LE(buf.slice(8,10)),\n",
       "          headerStr = asciiDecode(buf.slice(10, 10+headerLength));\n",
       "          var offsetBytes = 10 + headerLength;\n",
       "          //rest = buf.slice(10+headerLength);  XXX -- This makes a copy!!! https://www.khronos.org/registry/typedarray/specs/latest/#5\n",
       "\n",
       "      console.log(headerStr.toLowerCase().replace('(','[').replace(',),',']').replace('),',']').replace(/'/g,\"\\\"\"))\n",
       "      var info =  JSON.parse(headerStr.toLowerCase().replace('(','[').replace(',),',']').replace('),',']').replace(/'/g,\"\\\"\"));\n",
       "      \n",
       "      // Intepret the bytes according to the specified dtype\n",
       "      console.log(info)\n",
       "      var data;\n",
       "      if (info.descr === \"|u1\") {\n",
       "          data = new Uint8Array(buf, offsetBytes);\n",
       "      } else if (info.descr === \"|i1\") {\n",
       "          data = new Int8Array(buf, offsetBytes);\n",
       "      } else if (info.descr === \"<u2\") {\n",
       "          data = new Uint16Array(buf, offsetBytes);\n",
       "      } else if (info.descr === \"<i2\") {\n",
       "          data = new Int16Array(buf, offsetBytes);\n",
       "      } else if (info.descr === \"<u4\") {\n",
       "          data = new Uint32Array(buf, offsetBytes);\n",
       "      } else if (info.descr === \"<i4\") {\n",
       "          data = new Int32Array(buf, offsetBytes);\n",
       "      } else if (info.descr === \"<f4\") {\n",
       "          data = new Float32Array(buf, offsetBytes);\n",
       "      } else if (info.descr === \"<f8\") {\n",
       "          data = new Float64Array(buf, offsetBytes);\n",
       "      } else {\n",
       "          throw new Error('unknown numeric dtype')\n",
       "      }\n",
       "    \n",
       "      \n",
       "      var shape = info.shape;\n",
       "      if (shape.length == 2){\n",
       "          var ndata = new Array(shape[0])\n",
       "          \n",
       "          for(var i = 0; i< shape[0]; i++){\n",
       "              ndata[i] = data.slice(i*shape[1],(i+1)*shape[1])\n",
       "          }\n",
       "      }\n",
       "      else{\n",
       "          var ndata = data\n",
       "      }\n",
       "      return ndata ;\n",
       "\n",
       "}\n",
       "\n",
       "define('hello', [\"jupyter-js-widgets\"], function(widgets) {\n",
       "\n",
       "    var deserialize_numpy_array = function (data){\n",
       "        console.log(\"data\",data)\n",
       "        var ret = fromArrayBuffer(data.buffer);\n",
       "        console.log(\"After\",ret)\n",
       "        return ret\n",
       "    };\n",
       "    // Define the HelloView\n",
       "    var HelloView = widgets.DOMWidgetView.extend({\n",
       "        render : function(){\n",
       "            console.log(this.model.get(\"x\"))\n",
       "            var data = this.model.get(\"x\")\n",
       "            console.log(data,typeof data[0][0] )\n",
       "            if (typeof data[0][0] != \"undefined\")\n",
       "                this.el.textContent = \"2D \"+data[1][0]\n",
       "            else\n",
       "                this.el.textContent = \"1D \"+data[0]\n",
       "        }\n",
       "\n",
       "    });\n",
       "    \n",
       "            \n",
       "    var HelloModel =  widgets.WidgetModel.extend({\n",
       "\n",
       "\n",
       "    }, {\n",
       "    serializers: _.extend({\n",
       "        x: { deserialize: deserialize_numpy_array },\n",
       "\n",
       "    }, widgets.WidgetModel.serializers)\n",
       "});                       \n",
       "\n",
       "\n",
       "    return {\n",
       "        HelloView: HelloView,\n",
       "        HelloModel: HelloModel\n",
       "    }\n",
       "});"
      ],
      "text/plain": [
       "<IPython.core.display.Javascript object>"
      ]
     },
     "metadata": {},
     "output_type": "display_data"
    }
   ],
   "source": [
    "%%javascript\n",
    "require.undef('hello');\n",
    "function asciiDecode(buf) {\n",
    "        return String.fromCharCode.apply(null, new Uint8Array(buf));\n",
    "}\n",
    "\n",
    "function readUint16LE(buffer) {\n",
    "        var view = new DataView(buffer);\n",
    "        var val = view.getUint8(0);\n",
    "        val |= view.getUint8(1) << 8;\n",
    "        return val;\n",
    "}\n",
    "\n",
    "function fromArrayBuffer(buf,manager) {\n",
    "      // Check the magic number\n",
    "      //var buf = new ArrayBuffer(buf)\n",
    "      //console.log(buf)\n",
    "        \n",
    "      console.log(\"l\",buf.slice(1,6) )\n",
    "\n",
    "      var magic = asciiDecode(buf.slice(0,6));\n",
    "      console.log(\"La\")\n",
    "      //return \"test\"\n",
    "      console.log(\"l\",magic.slice(1,6) )\n",
    "      if (magic.slice(1,6) != 'NUMPY') {\n",
    "          throw new Error('unknown file type');\n",
    "      }\n",
    "\n",
    "      var version = new Uint8Array(buf.slice(6,8)),\n",
    "          headerLength = readUint16LE(buf.slice(8,10)),\n",
    "          headerStr = asciiDecode(buf.slice(10, 10+headerLength));\n",
    "          var offsetBytes = 10 + headerLength;\n",
    "          //rest = buf.slice(10+headerLength);  XXX -- This makes a copy!!! https://www.khronos.org/registry/typedarray/specs/latest/#5\n",
    "\n",
    "      console.log(headerStr.toLowerCase().replace('(','[').replace(',),',']').replace('),',']').replace(/'/g,\"\\\"\"))\n",
    "      var info =  JSON.parse(headerStr.toLowerCase().replace('(','[').replace(',),',']').replace('),',']').replace(/'/g,\"\\\"\"));\n",
    "      \n",
    "      // Intepret the bytes according to the specified dtype\n",
    "      console.log(info)\n",
    "      var data;\n",
    "      if (info.descr === \"|u1\") {\n",
    "          data = new Uint8Array(buf, offsetBytes);\n",
    "      } else if (info.descr === \"|i1\") {\n",
    "          data = new Int8Array(buf, offsetBytes);\n",
    "      } else if (info.descr === \"<u2\") {\n",
    "          data = new Uint16Array(buf, offsetBytes);\n",
    "      } else if (info.descr === \"<i2\") {\n",
    "          data = new Int16Array(buf, offsetBytes);\n",
    "      } else if (info.descr === \"<u4\") {\n",
    "          data = new Uint32Array(buf, offsetBytes);\n",
    "      } else if (info.descr === \"<i4\") {\n",
    "          data = new Int32Array(buf, offsetBytes);\n",
    "      } else if (info.descr === \"<f4\") {\n",
    "          data = new Float32Array(buf, offsetBytes);\n",
    "      } else if (info.descr === \"<f8\") {\n",
    "          data = new Float64Array(buf, offsetBytes);\n",
    "      } else {\n",
    "          throw new Error('unknown numeric dtype')\n",
    "      }\n",
    "    \n",
    "      \n",
    "      var shape = info.shape;\n",
    "      if (shape.length == 2){\n",
    "          var ndata = new Array(shape[0])\n",
    "          \n",
    "          for(var i = 0; i< shape[0]; i++){\n",
    "              ndata[i] = data.slice(i*shape[1],(i+1)*shape[1])\n",
    "          }\n",
    "      }\n",
    "      else{\n",
    "          var ndata = data\n",
    "      }\n",
    "      return ndata ;\n",
    "\n",
    "}\n",
    "\n",
    "define('hello', [\"jupyter-js-widgets\"], function(widgets) {\n",
    "\n",
    "    var deserialize_numpy_array = function (data){\n",
    "        var ret = fromArrayBuffer(data.buffer);\n",
    "        return ret\n",
    "    };\n",
    "    // Define the HelloView\n",
    "    var HelloView = widgets.DOMWidgetView.extend({\n",
    "        render : function(){\n",
    "            console.log(this.model.get(\"x\"))\n",
    "            var data = this.model.get(\"x\")\n",
    "            console.log(data,typeof data[0][0] )\n",
    "            if (typeof data[0][0] != \"undefined\")\n",
    "                this.el.textContent = \"2D \"+data[1][0]\n",
    "            else\n",
    "                this.el.textContent = \"1D \"+data[0]\n",
    "        }\n",
    "\n",
    "    });\n",
    "    \n",
    "            \n",
    "    var HelloModel =  widgets.WidgetModel.extend({\n",
    "\n",
    "\n",
    "    }, {\n",
    "    serializers: _.extend({\n",
    "        x: { deserialize: deserialize_numpy_array },\n",
    "\n",
    "    }, widgets.WidgetModel.serializers)\n",
    "});                       \n",
    "\n",
    "\n",
    "    return {\n",
    "        HelloView: HelloView,\n",
    "        HelloModel: HelloModel\n",
    "    }\n",
    "});"
   ]
  },
  {
   "cell_type": "code",
   "execution_count": 188,
   "metadata": {
    "collapsed": false
   },
   "outputs": [
    {
     "data": {
      "application/vnd.jupyter.widget-view+json": {
       "model_id": "6246bf44c42d4b6d82d8a461b794c6ce"
      }
     },
     "metadata": {},
     "output_type": "display_data"
    },
    {
     "data": {
      "application/vnd.jupyter.widget-view+json": {
       "model_id": "0b27beabaff04706b91db3366229a9c2"
      }
     },
     "metadata": {},
     "output_type": "display_data"
    }
   ],
   "source": [
    "V1 = HelloWidget(x=np.array([5.]))\n",
    "display(V1)\n",
    "V2 = HelloWidget(x=np.array(([6.,4],[7.,3])))\n",
    "display(V2)"
   ]
  },
  {
   "cell_type": "code",
   "execution_count": 189,
   "metadata": {
    "collapsed": false
   },
   "outputs": [
    {
     "name": "stdout",
     "output_type": "stream",
     "text": [
      "10 loops, best of 3: 23.7 ms per loop\n"
     ]
    }
   ],
   "source": [
    "%timeit -n 10  HelloWidget(x=np.zeros((1000, 1000)))"
   ]
  },
  {
   "cell_type": "code",
   "execution_count": 190,
   "metadata": {
    "collapsed": false
   },
   "outputs": [
    {
     "name": "stdout",
     "output_type": "stream",
     "text": [
      "10 loops, best of 3: 24.5 ms per loop\n"
     ]
    }
   ],
   "source": [
    "%timeit -n 10  HelloWidget(x=np.zeros(1000000))"
   ]
  }
 ],
 "metadata": {
  "kernelspec": {
   "display_name": "Python 3",
   "language": "python",
   "name": "python3"
  },
  "language_info": {
   "codemirror_mode": {
    "name": "ipython",
    "version": 3
   },
   "file_extension": ".py",
   "mimetype": "text/x-python",
   "name": "python",
   "nbconvert_exporter": "python",
   "pygments_lexer": "ipython3",
   "version": "3.5.2"
  }
 },
 "nbformat": 4,
 "nbformat_minor": 2
}
