{
 "cells": [
  {
   "cell_type": "code",
   "execution_count": 1,
   "metadata": {
    "collapsed": true
   },
   "outputs": [],
   "source": [
    "from traitlets import Unicode, validate\n",
    "from traittypes import Array\n",
    "import numpy as np\n",
    "\n",
    "import ipywidgets as widgets\n",
    "from IPython.display import display\n",
    "\n",
    "\n",
    "def array_to_json(ar, obj=None):\n",
    "\treturn ar.tolist() if ar is not None else None\n",
    "\n",
    "def from_json_to_array(value, obj=None):\n",
    "\treturn np.array(value) if value else None\n",
    "\n",
    "\n",
    "array_serialization = dict(to_json=array_to_json, from_json=from_json_to_array)\n",
    "\n",
    "class HelloWidget(widgets.DOMWidget):\n",
    "    _view_name = Unicode('HelloView').tag(sync=True)\n",
    "    _view_module = Unicode('hello').tag(sync=True)\n",
    "    numpy_bigv = Array(default_value=None,allow_none=True).tag(sync=True)\n",
    "    array_bigv = Array(default_value=None,allow_none=True).tag(sync=True,**array_serialization)\n",
    "    "
   ]
  },
  {
   "cell_type": "code",
   "execution_count": 2,
   "metadata": {
    "collapsed": false
   },
   "outputs": [
    {
     "data": {
      "application/javascript": [
       "require.undef('hello');\n",
       "\n",
       "define('hello', [\"jupyter-js-widgets\"], function(widgets) {\n",
       "\n",
       "    var HelloView = widgets.DOMWidgetView.extend({\n",
       "\n",
       "        render: function() {\n",
       "            this.value_changed()\n",
       "            \n",
       "            this.model.on('change:value', this.value_changed, this);\n",
       "        },\n",
       "\n",
       "        value_changed: function() {\n",
       "            this.el.textContent = this.model.get('numpy_bigv')[1];\n",
       "        },\n",
       "    });\n",
       "\n",
       "    return {\n",
       "        HelloView : HelloView\n",
       "    };\n",
       "});"
      ],
      "text/plain": [
       "<IPython.core.display.Javascript object>"
      ]
     },
     "metadata": {},
     "output_type": "display_data"
    }
   ],
   "source": [
    "%%javascript\n",
    "require.undef('hello');\n",
    "\n",
    "define('hello', [\"jupyter-js-widgets\"], function(widgets) {\n",
    "\n",
    "    var HelloView = widgets.DOMWidgetView.extend({\n",
    "\n",
    "        render: function() {\n",
    "            this.value_changed()\n",
    "            \n",
    "            this.model.on('change:value', this.value_changed, this);\n",
    "        },\n",
    "\n",
    "        value_changed: function() {\n",
    "            this.el.textContent = this.model.get('numpy_bigv')[1];\n",
    "        },\n",
    "    });\n",
    "\n",
    "    return {\n",
    "        HelloView : HelloView\n",
    "    };\n",
    "});"
   ]
  },
  {
   "cell_type": "code",
   "execution_count": 3,
   "metadata": {
    "collapsed": true
   },
   "outputs": [],
   "source": [
    "from functools import update_wrapper\n",
    "from ipykernel.jsonutil import *\n",
    "\n",
    "def json_clean(obj):\n",
    "    \"\"\"Clean an object to ensure it's safe to encode in JSON.\n",
    "\n",
    "    Atomic, immutable objects are returned unmodified.  Sets and tuples are\n",
    "    converted to lists, lists are copied and dicts are also copied.\n",
    "\n",
    "    Note: dicts whose keys could cause collisions upon encoding (such as a dict\n",
    "    with both the number 1 and the string '1' as keys) will cause a ValueError\n",
    "    to be raised.\n",
    "\n",
    "    Parameters\n",
    "    ----------\n",
    "    obj : any python object\n",
    "\n",
    "    Returns\n",
    "    -------\n",
    "    out : object\n",
    "\n",
    "      A version of the input which will not cause an encoding error when\n",
    "      encoded as JSON.  Note that this function does not *encode* its inputs,\n",
    "      it simply sanitizes it so that there will be no encoding errors later.\n",
    "\n",
    "    \"\"\"\n",
    "    # types that are 'atomic' and ok in json as-is.\n",
    "    atomic_ok = (unicode_type, type(None))\n",
    "\n",
    "    # containers that we need to convert into lists\n",
    "    container_to_list = (tuple, set, types.GeneratorType)\n",
    "\n",
    "    # Since bools are a subtype of Integrals, which are a subtype of Reals,\n",
    "    # we have to check them in that order.\n",
    "\n",
    "    if isinstance(obj, bool):\n",
    "        return obj\n",
    "\n",
    "    if isinstance(obj, numbers.Integral):\n",
    "        # cast int to int, in case subclasses override __str__ (e.g. boost enum, #4598)\n",
    "        return int(obj)\n",
    "\n",
    "    if isinstance(obj, numbers.Real):\n",
    "        # cast out-of-range floats to their reprs\n",
    "        if math.isnan(obj) or math.isinf(obj):\n",
    "            return repr(obj)\n",
    "        return float(obj)\n",
    "    \n",
    "    if isinstance(obj, atomic_ok):\n",
    "        return obj\n",
    "\n",
    "    if isinstance(obj, bytes):\n",
    "        return obj.decode(DEFAULT_ENCODING, 'replace')\n",
    "\n",
    "    if isinstance(obj, container_to_list) or (\n",
    "        hasattr(obj, '__iter__') and hasattr(obj, next_attr_name)):\n",
    "        obj = list(obj)\n",
    "\n",
    "    if isinstance(obj, list):\n",
    "        return [json_clean(x) for x in obj]\n",
    "\n",
    "    if isinstance(obj, dict):\n",
    "        # First, validate that the dict won't lose data in conversion due to\n",
    "        # key collisions after stringification.  This can happen with keys like\n",
    "        # True and 'true' or 1 and '1', which collide in JSON.\n",
    "        nkeys = len(obj)\n",
    "        nkeys_collapsed = len(set(map(unicode_type, obj)))\n",
    "        if nkeys != nkeys_collapsed:\n",
    "            raise ValueError('dict cannot be safely converted to JSON: '\n",
    "                             'key collision would lead to dropped values')\n",
    "        # If all OK, proceed by making the new dict that will be json-safe\n",
    "        out = {}\n",
    "        for k,v in iteritems(obj):\n",
    "            out[unicode_type(k)] = json_clean(v)\n",
    "        return out\n",
    "    if isinstance(obj, datetime):\n",
    "        return obj.strftime(ISO8601)\n",
    "    \n",
    "    #################################\n",
    "    #Here is the new part\n",
    "    if isinstance(obj,np.ndarray):\n",
    "        return obj.tolist()\n",
    "    \n"
   ]
  },
  {
   "cell_type": "code",
   "execution_count": 4,
   "metadata": {
    "collapsed": false
   },
   "outputs": [
    {
     "name": "stdout",
     "output_type": "stream",
     "text": [
      "1 loop, best of 3: 348 ms per loop\n",
      "1 loop, best of 3: 4.09 s per loop\n"
     ]
    }
   ],
   "source": [
    "Val = np.zeros(1000000)+0.1\n",
    "#Val =  np.array([10,20])\n",
    "from ipykernel.comm import comm\n",
    "\n",
    "comm.json_clean = json_clean\n",
    "\n",
    "%timeit A = HelloWidget(numpy_bigv=Val)\n",
    "\n",
    "\n",
    "from ipykernel.jsonutil import json_clean\n",
    "comm.json_clean = json_clean\n",
    "\n",
    "%timeit A = HelloWidget(array_bigv=Val.tolist())\n"
   ]
  },
  {
   "cell_type": "code",
   "execution_count": null,
   "metadata": {
    "collapsed": true
   },
   "outputs": [],
   "source": []
  }
 ],
 "metadata": {
  "kernelspec": {
   "display_name": "Python 3",
   "language": "python",
   "name": "python3"
  },
  "language_info": {
   "codemirror_mode": {
    "name": "ipython",
    "version": 3
   },
   "file_extension": ".py",
   "mimetype": "text/x-python",
   "name": "python",
   "nbconvert_exporter": "python",
   "pygments_lexer": "ipython3",
   "version": "3.5.2"
  }
 },
 "nbformat": 4,
 "nbformat_minor": 2
}
